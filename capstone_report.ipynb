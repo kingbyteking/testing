{
    "cells": [
        {
            "metadata": {
                "collapsed": true
            },
            "cell_type": "markdown",
            "source": "# 1. Introduction\nA contractor is asking where should he/she to start his/her business. To start the work, we should first know what kind of business is more popular in a given area. Based on that information, we could plot a map with top 5 business kinds in each area. The assumption is that if a business is more popular, the possiblity of new business success is higher."
        },
        {
            "metadata": {},
            "cell_type": "markdown",
            "source": "# 2. Data\nIn this report, I will take the data in this class of New York data https://cf-courses-data.s3.us.cloud-object-storage.appdomain.cloud/IBMDeveloperSkillsNetwork-DS0701EN-SkillsNetwork/labs/newyork_data.json. It's due to that fact that it includes full details of neighborhoods. "
        },
        {
            "metadata": {},
            "cell_type": "markdown",
            "source": "For businesses in each neighborhood, I can use foursquares REST API to retrieve interested info.\nAlso try to re-use the similar algo in the class to clustering neighbourhoods based on most popular businesses. \nBy plotting similar neighborhoods on geo map, we can gain first insight of how businesses are favorited.\nAt last we can provide a simple algo to indicate whether the proposed business is good not."
        },
        {
            "metadata": {},
            "cell_type": "markdown",
            "source": "## 2.1 Data cleaning\nFoursquare API /explore returns all kinds of venues. For business decision, type of \"ATM\", \"Airport\" should not be considered to be a target. So common public functions should be removed from results. The list include:\n\n>\"ATM\",\"Airport Terminal\",\"Art Gallery\",\"Art Museum\",\"Bank\",\"Bridge\",\"Building\",\"Bus Line\",\"Bus Station\",\"Bus Stop\",\"Business Service\",\"Check Cashing Service\",\"Church\",\"College Academic Building\",\"College Arts Building\",\"College Basketball Court\",\"Community Center\",\"Concert Hall\",\"Construction & Landscaping\",\"Duty-free Shop\",\"Exhibit\",\"Field\",\"Fountain\",\"Gas Station\",\"High School\",\"Hill\",\"Historic Site\",\"History Museum\",\"Lake\",\"Library\",\"Lounge\",\"Luggage Store\",\"Martial Arts School\",\"Medical Center\",\"Memorial Site\",\"Metro Station\",\"Monument / Landmark\",\"Multiplex\",\"Museum\",\"Music School\",\"Non-Profit\",\"Opera House\",\"Park\",\"Pedestrian Plaza\",\"Performing Arts Venue\",\"Platform\",\"Playground\",\"Pool\",\"Post Office\",\"Rest Area\",\"River\",\"Road\",\"Scenic Lookout\",\"School\",\"Sculpture Garden\",\"Skate Park\",\"Soccer Field\",\"Stadium\",\"State / Provincial Park\",\"Tech Startup\",\"Tennis Stadium\",\"Theme Park\",\"Toll Plaza\",\"Tourist Information Center\",\"Track\",\"Trail\",\"Train\",\"Train Station\",\"Volleyball Court\""
        },
        {
            "metadata": {},
            "cell_type": "markdown",
            "source": "# 3. Methodology\nAs stated in section Data cleaning, business types other than excluded are used for clustering. Clustering algo selected is KMean. DBSCAN is not used as it doesn't work well in this case. In other words, it fails to cluster with text features.\n\nThe clustering value k selected is 7. With value 7, it could export more granularity with business types. Lower the value, failed to differentiated the types.\n\nThen clustering result is plotted with folium map function to give a general view of business type distribution of each neighborhood.\n\nFinally, a verification function is defined to evaluate the user's input for selected neighborhood and desired business. The algo based on the statistic result of top 5 most popular business in the neighborhood. If the input is in the top 5, it assumes to be ok. Otherwise, top 5 business will\n"
        },
        {
            "metadata": {},
            "cell_type": "markdown",
            "source": "## 3.2 feature selection"
        },
        {
            "metadata": {},
            "cell_type": "markdown",
            "source": "# 4. Results\nAs project's output, one could select a neighborhood name and a target business idea to the application. Then a suggestion will be provided. The aloo will estimate the result. \n\nIf it's in the most popular business, good idea is shown. \n\ne.g: \n\nbusiness = \"Hotel\"\n\nneighborhood = \"Battery Park City\"\n\nThe algo will output:\n\n>_*It's a good idea to setup Hotel in Battery Park City*_\n\nOtherwise, it lists proposed business for the region.\n\nbusiness = \"Chinese restaturant\"\n\nneighborhood = \"Battery Park City\"\n\nThe algo will output:\n\n>_*Try to setup \n['Coffee Shop', 'Hotel', 'Clothing Store', 'Gym', 'Plaza'] \nin \nBattery Park City*_"
        },
        {
            "metadata": {},
            "cell_type": "markdown",
            "source": "# 5. Discussion\nIn the above section, we verified our assumption based on existing data for NY neighboring for most popular businesses. One may argue that we choose most popular business may lead to more competition, should it be a good idea? Yes, as the factors for a successful business is more than we know, so it's just a quick idea to verify. For food, maybe it's a good reference. For other kind of business, good practice should also consider other factors, e.g: population, target client and so forth."
        },
        {
            "metadata": {},
            "cell_type": "markdown",
            "source": "# 6. Conclusion\nWhether the proposal is good or not still needs to be verified for the real world. We should continue to tune."
        }
    ],
    "metadata": {
        "kernelspec": {
            "name": "python3",
            "display_name": "Python 3.7",
            "language": "python"
        },
        "language_info": {
            "name": "python",
            "version": "3.7.9",
            "mimetype": "text/x-python",
            "codemirror_mode": {
                "name": "ipython",
                "version": 3
            },
            "pygments_lexer": "ipython3",
            "nbconvert_exporter": "python",
            "file_extension": ".py"
        }
    },
    "nbformat": 4,
    "nbformat_minor": 1
}