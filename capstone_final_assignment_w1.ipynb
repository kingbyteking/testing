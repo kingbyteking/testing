{
    "cells": [
        {
            "metadata": {
                "collapsed": true
            },
            "cell_type": "markdown",
            "source": "# project background\n  A contractor is asking where should he/she to start his/her business. To start the work, we should first know what kind of business is more popular in a given area. Based on that information, we could plot a map with top 5 business kinds in each area. \n  The assumption is that if a business is more popular, the possiblity of new business success is higher. "
        },
        {
            "metadata": {},
            "cell_type": "markdown",
            "source": "# Data source and solution\n  As I'm new to this part, I will take the data in this class of New York data https://cf-courses-data.s3.us.cloud-object-storage.appdomain.cloud/IBMDeveloperSkillsNetwork-DS0701EN-SkillsNetwork/labs/newyork_data.json. Also try to re-use the similar algo in the class to clustering neighbourhoods.\n  The we can provide a simple algo to indicate whether the proposed business is good not."
        }
    ],
    "metadata": {
        "kernelspec": {
            "name": "python3",
            "display_name": "Python 3.7",
            "language": "python"
        },
        "language_info": {
            "name": "python",
            "version": "3.7.9",
            "mimetype": "text/x-python",
            "codemirror_mode": {
                "name": "ipython",
                "version": 3
            },
            "pygments_lexer": "ipython3",
            "nbconvert_exporter": "python",
            "file_extension": ".py"
        }
    },
    "nbformat": 4,
    "nbformat_minor": 1
}